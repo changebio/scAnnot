{
 "cells": [
  {
   "cell_type": "code",
   "execution_count": null,
   "metadata": {},
   "outputs": [
    {
     "name": "stderr",
     "output_type": "stream",
     "text": [
      "/home/huang_yin/anaconda3/envs/sc/lib/python3.9/site-packages/scvi/__init__.py:31: DeprecationWarning: scvi is deprecated, please uninstall scvi via `pip uninstall scvi` and install the new scvi-tools package at github.com/YosefLab/scvi-tools\n",
      "  warnings.warn(deprecation_msg, DeprecationWarning)\n"
     ]
    }
   ],
   "source": [
    "#| hide\n",
    "from scAnnot.core import *"
   ]
  },
  {
   "cell_type": "markdown",
   "metadata": {},
   "source": [
    "# scAnnot\n",
    "\n",
    "> single cell annotation"
   ]
  },
  {
   "cell_type": "markdown",
   "metadata": {},
   "source": [
    "This file will become your README and also the index of your documentation."
   ]
  },
  {
   "cell_type": "markdown",
   "metadata": {},
   "source": [
    "## Install"
   ]
  },
  {
   "cell_type": "markdown",
   "metadata": {},
   "source": [
    "```sh\n",
    "pip install scAnnot\n",
    "```"
   ]
  },
  {
   "cell_type": "markdown",
   "metadata": {},
   "source": [
    "## How to use"
   ]
  },
  {
   "cell_type": "markdown",
   "metadata": {},
   "source": [
    "### In command line\n",
    "#### 1. output the table of predicted lables in csv format\n",
    "\n",
    "```\n",
    "scAnnot /home/huang_ziliang/project/brain/data/public/human_brain_glial_Fu_2021_PCR/h5/umap.h5ad --output test.csv\n",
    "```\n",
    "#### 2. output the anndata with predicted lables in h5ad\n",
    "\n",
    "```\n",
    "scAnnot /home/huang_ziliang/project/brain/data/public/human_brain_glial_Fu_2021_PCR/h5/umap.h5ad --output test.h5ad\n",
    "```\n",
    "\n",
    "### In jupyter notebook\n",
    "```\n",
    "ad=scAnnot('/home/huang_ziliang/project/brain/data/public/human_brain_glial_Fu_2021_PCR/h5/umap.h5ad')\n",
    "\n",
    "#show umap from the latent space\n",
    "ad=scAnnot('/home/huang_ziliang/project/brain/data/public/human_brain_glial_Fu_2021_PCR/h5/umap.h5ad',show=True)\n",
    "```"
   ]
  },
  {
   "cell_type": "code",
   "execution_count": null,
   "metadata": {},
   "outputs": [],
   "source": []
  }
 ],
 "metadata": {
  "kernelspec": {
   "display_name": "Python [conda env:sc]",
   "language": "python",
   "name": "conda-env-sc-py"
  }
 },
 "nbformat": 4,
 "nbformat_minor": 4
}
